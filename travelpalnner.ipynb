{
  "nbformat": 4,
  "nbformat_minor": 0,
  "metadata": {
    "colab": {
      "provenance": [],
      "gpuType": "T4"
    },
    "kernelspec": {
      "name": "python3",
      "display_name": "Python 3"
    },
    "language_info": {
      "name": "python"
    },
    "accelerator": "GPU"
  },
  "cells": [
    {
      "cell_type": "code",
      "execution_count": 1,
      "metadata": {
        "colab": {
          "base_uri": "https://localhost:8080/"
        },
        "id": "BgBFX_88_OCE",
        "outputId": "b09f2581-2f60-410d-a5e0-dc58a6188a27"
      },
      "outputs": [
        {
          "output_type": "stream",
          "name": "stdout",
          "text": [
            "Requirement already satisfied: langchain in /usr/local/lib/python3.11/dist-packages (0.3.20)\n",
            "Requirement already satisfied: langchain_core in /usr/local/lib/python3.11/dist-packages (0.3.44)\n",
            "Collecting langchain_groq\n",
            "  Downloading langchain_groq-0.2.5-py3-none-any.whl.metadata (2.6 kB)\n",
            "Collecting langchain_community\n",
            "  Downloading langchain_community-0.3.19-py3-none-any.whl.metadata (2.4 kB)\n",
            "Collecting langgraph\n",
            "  Downloading langgraph-0.3.11-py3-none-any.whl.metadata (7.5 kB)\n",
            "Requirement already satisfied: langchain-text-splitters<1.0.0,>=0.3.6 in /usr/local/lib/python3.11/dist-packages (from langchain) (0.3.6)\n",
            "Requirement already satisfied: langsmith<0.4,>=0.1.17 in /usr/local/lib/python3.11/dist-packages (from langchain) (0.3.13)\n",
            "Requirement already satisfied: pydantic<3.0.0,>=2.7.4 in /usr/local/lib/python3.11/dist-packages (from langchain) (2.10.6)\n",
            "Requirement already satisfied: SQLAlchemy<3,>=1.4 in /usr/local/lib/python3.11/dist-packages (from langchain) (2.0.39)\n",
            "Requirement already satisfied: requests<3,>=2 in /usr/local/lib/python3.11/dist-packages (from langchain) (2.32.3)\n",
            "Requirement already satisfied: PyYAML>=5.3 in /usr/local/lib/python3.11/dist-packages (from langchain) (6.0.2)\n",
            "Requirement already satisfied: tenacity!=8.4.0,<10.0.0,>=8.1.0 in /usr/local/lib/python3.11/dist-packages (from langchain_core) (9.0.0)\n",
            "Requirement already satisfied: jsonpatch<2.0,>=1.33 in /usr/local/lib/python3.11/dist-packages (from langchain_core) (1.33)\n",
            "Requirement already satisfied: packaging<25,>=23.2 in /usr/local/lib/python3.11/dist-packages (from langchain_core) (24.2)\n",
            "Requirement already satisfied: typing-extensions>=4.7 in /usr/local/lib/python3.11/dist-packages (from langchain_core) (4.12.2)\n",
            "Collecting groq<1,>=0.4.1 (from langchain_groq)\n",
            "  Downloading groq-0.19.0-py3-none-any.whl.metadata (15 kB)\n",
            "Requirement already satisfied: aiohttp<4.0.0,>=3.8.3 in /usr/local/lib/python3.11/dist-packages (from langchain_community) (3.11.13)\n",
            "Collecting dataclasses-json<0.7,>=0.5.7 (from langchain_community)\n",
            "  Downloading dataclasses_json-0.6.7-py3-none-any.whl.metadata (25 kB)\n",
            "Collecting pydantic-settings<3.0.0,>=2.4.0 (from langchain_community)\n",
            "  Downloading pydantic_settings-2.8.1-py3-none-any.whl.metadata (3.5 kB)\n",
            "Collecting httpx-sse<1.0.0,>=0.4.0 (from langchain_community)\n",
            "  Downloading httpx_sse-0.4.0-py3-none-any.whl.metadata (9.0 kB)\n",
            "Requirement already satisfied: numpy<3,>=1.26.2 in /usr/local/lib/python3.11/dist-packages (from langchain_community) (2.0.2)\n",
            "Collecting langgraph-checkpoint<3.0.0,>=2.0.10 (from langgraph)\n",
            "  Downloading langgraph_checkpoint-2.0.20-py3-none-any.whl.metadata (4.6 kB)\n",
            "Collecting langgraph-prebuilt<0.2,>=0.1.1 (from langgraph)\n",
            "  Downloading langgraph_prebuilt-0.1.3-py3-none-any.whl.metadata (5.0 kB)\n",
            "Collecting langgraph-sdk<0.2.0,>=0.1.42 (from langgraph)\n",
            "  Downloading langgraph_sdk-0.1.57-py3-none-any.whl.metadata (1.8 kB)\n",
            "Requirement already satisfied: aiohappyeyeballs>=2.3.0 in /usr/local/lib/python3.11/dist-packages (from aiohttp<4.0.0,>=3.8.3->langchain_community) (2.6.1)\n",
            "Requirement already satisfied: aiosignal>=1.1.2 in /usr/local/lib/python3.11/dist-packages (from aiohttp<4.0.0,>=3.8.3->langchain_community) (1.3.2)\n",
            "Requirement already satisfied: attrs>=17.3.0 in /usr/local/lib/python3.11/dist-packages (from aiohttp<4.0.0,>=3.8.3->langchain_community) (25.3.0)\n",
            "Requirement already satisfied: frozenlist>=1.1.1 in /usr/local/lib/python3.11/dist-packages (from aiohttp<4.0.0,>=3.8.3->langchain_community) (1.5.0)\n",
            "Requirement already satisfied: multidict<7.0,>=4.5 in /usr/local/lib/python3.11/dist-packages (from aiohttp<4.0.0,>=3.8.3->langchain_community) (6.1.0)\n",
            "Requirement already satisfied: propcache>=0.2.0 in /usr/local/lib/python3.11/dist-packages (from aiohttp<4.0.0,>=3.8.3->langchain_community) (0.3.0)\n",
            "Requirement already satisfied: yarl<2.0,>=1.17.0 in /usr/local/lib/python3.11/dist-packages (from aiohttp<4.0.0,>=3.8.3->langchain_community) (1.18.3)\n",
            "Collecting marshmallow<4.0.0,>=3.18.0 (from dataclasses-json<0.7,>=0.5.7->langchain_community)\n",
            "  Downloading marshmallow-3.26.1-py3-none-any.whl.metadata (7.3 kB)\n",
            "Collecting typing-inspect<1,>=0.4.0 (from dataclasses-json<0.7,>=0.5.7->langchain_community)\n",
            "  Downloading typing_inspect-0.9.0-py3-none-any.whl.metadata (1.5 kB)\n",
            "Requirement already satisfied: anyio<5,>=3.5.0 in /usr/local/lib/python3.11/dist-packages (from groq<1,>=0.4.1->langchain_groq) (3.7.1)\n",
            "Requirement already satisfied: distro<2,>=1.7.0 in /usr/local/lib/python3.11/dist-packages (from groq<1,>=0.4.1->langchain_groq) (1.9.0)\n",
            "Requirement already satisfied: httpx<1,>=0.23.0 in /usr/local/lib/python3.11/dist-packages (from groq<1,>=0.4.1->langchain_groq) (0.28.1)\n",
            "Requirement already satisfied: sniffio in /usr/local/lib/python3.11/dist-packages (from groq<1,>=0.4.1->langchain_groq) (1.3.1)\n",
            "Requirement already satisfied: jsonpointer>=1.9 in /usr/local/lib/python3.11/dist-packages (from jsonpatch<2.0,>=1.33->langchain_core) (3.0.0)\n",
            "Requirement already satisfied: msgpack<2.0.0,>=1.1.0 in /usr/local/lib/python3.11/dist-packages (from langgraph-checkpoint<3.0.0,>=2.0.10->langgraph) (1.1.0)\n",
            "Requirement already satisfied: orjson>=3.10.1 in /usr/local/lib/python3.11/dist-packages (from langgraph-sdk<0.2.0,>=0.1.42->langgraph) (3.10.15)\n",
            "Requirement already satisfied: requests-toolbelt<2.0.0,>=1.0.0 in /usr/local/lib/python3.11/dist-packages (from langsmith<0.4,>=0.1.17->langchain) (1.0.0)\n",
            "Requirement already satisfied: zstandard<0.24.0,>=0.23.0 in /usr/local/lib/python3.11/dist-packages (from langsmith<0.4,>=0.1.17->langchain) (0.23.0)\n",
            "Requirement already satisfied: annotated-types>=0.6.0 in /usr/local/lib/python3.11/dist-packages (from pydantic<3.0.0,>=2.7.4->langchain) (0.7.0)\n",
            "Requirement already satisfied: pydantic-core==2.27.2 in /usr/local/lib/python3.11/dist-packages (from pydantic<3.0.0,>=2.7.4->langchain) (2.27.2)\n",
            "Collecting python-dotenv>=0.21.0 (from pydantic-settings<3.0.0,>=2.4.0->langchain_community)\n",
            "  Downloading python_dotenv-1.0.1-py3-none-any.whl.metadata (23 kB)\n",
            "Requirement already satisfied: charset-normalizer<4,>=2 in /usr/local/lib/python3.11/dist-packages (from requests<3,>=2->langchain) (3.4.1)\n",
            "Requirement already satisfied: idna<4,>=2.5 in /usr/local/lib/python3.11/dist-packages (from requests<3,>=2->langchain) (3.10)\n",
            "Requirement already satisfied: urllib3<3,>=1.21.1 in /usr/local/lib/python3.11/dist-packages (from requests<3,>=2->langchain) (2.3.0)\n",
            "Requirement already satisfied: certifi>=2017.4.17 in /usr/local/lib/python3.11/dist-packages (from requests<3,>=2->langchain) (2025.1.31)\n",
            "Requirement already satisfied: greenlet!=0.4.17 in /usr/local/lib/python3.11/dist-packages (from SQLAlchemy<3,>=1.4->langchain) (3.1.1)\n",
            "Requirement already satisfied: httpcore==1.* in /usr/local/lib/python3.11/dist-packages (from httpx<1,>=0.23.0->groq<1,>=0.4.1->langchain_groq) (1.0.7)\n",
            "Requirement already satisfied: h11<0.15,>=0.13 in /usr/local/lib/python3.11/dist-packages (from httpcore==1.*->httpx<1,>=0.23.0->groq<1,>=0.4.1->langchain_groq) (0.14.0)\n",
            "Collecting mypy-extensions>=0.3.0 (from typing-inspect<1,>=0.4.0->dataclasses-json<0.7,>=0.5.7->langchain_community)\n",
            "  Downloading mypy_extensions-1.0.0-py3-none-any.whl.metadata (1.1 kB)\n",
            "Downloading langchain_groq-0.2.5-py3-none-any.whl (15 kB)\n",
            "Downloading langchain_community-0.3.19-py3-none-any.whl (2.5 MB)\n",
            "\u001b[2K   \u001b[90m━━━━━━━━━━━━━━━━━━━━━━━━━━━━━━━━━━━━━━━━\u001b[0m \u001b[32m2.5/2.5 MB\u001b[0m \u001b[31m44.4 MB/s\u001b[0m eta \u001b[36m0:00:00\u001b[0m\n",
            "\u001b[?25hDownloading langgraph-0.3.11-py3-none-any.whl (132 kB)\n",
            "\u001b[2K   \u001b[90m━━━━━━━━━━━━━━━━━━━━━━━━━━━━━━━━━━━━━━━━\u001b[0m \u001b[32m132.5/132.5 kB\u001b[0m \u001b[31m9.1 MB/s\u001b[0m eta \u001b[36m0:00:00\u001b[0m\n",
            "\u001b[?25hDownloading dataclasses_json-0.6.7-py3-none-any.whl (28 kB)\n",
            "Downloading groq-0.19.0-py3-none-any.whl (122 kB)\n",
            "\u001b[2K   \u001b[90m━━━━━━━━━━━━━━━━━━━━━━━━━━━━━━━━━━━━━━━━\u001b[0m \u001b[32m122.2/122.2 kB\u001b[0m \u001b[31m6.9 MB/s\u001b[0m eta \u001b[36m0:00:00\u001b[0m\n",
            "\u001b[?25hDownloading httpx_sse-0.4.0-py3-none-any.whl (7.8 kB)\n",
            "Downloading langgraph_checkpoint-2.0.20-py3-none-any.whl (39 kB)\n",
            "Downloading langgraph_prebuilt-0.1.3-py3-none-any.whl (24 kB)\n",
            "Downloading langgraph_sdk-0.1.57-py3-none-any.whl (46 kB)\n",
            "\u001b[2K   \u001b[90m━━━━━━━━━━━━━━━━━━━━━━━━━━━━━━━━━━━━━━━━\u001b[0m \u001b[32m46.0/46.0 kB\u001b[0m \u001b[31m3.3 MB/s\u001b[0m eta \u001b[36m0:00:00\u001b[0m\n",
            "\u001b[?25hDownloading pydantic_settings-2.8.1-py3-none-any.whl (30 kB)\n",
            "Downloading marshmallow-3.26.1-py3-none-any.whl (50 kB)\n",
            "\u001b[2K   \u001b[90m━━━━━━━━━━━━━━━━━━━━━━━━━━━━━━━━━━━━━━━━\u001b[0m \u001b[32m50.9/50.9 kB\u001b[0m \u001b[31m4.3 MB/s\u001b[0m eta \u001b[36m0:00:00\u001b[0m\n",
            "\u001b[?25hDownloading python_dotenv-1.0.1-py3-none-any.whl (19 kB)\n",
            "Downloading typing_inspect-0.9.0-py3-none-any.whl (8.8 kB)\n",
            "Downloading mypy_extensions-1.0.0-py3-none-any.whl (4.7 kB)\n",
            "Installing collected packages: python-dotenv, mypy-extensions, marshmallow, httpx-sse, typing-inspect, pydantic-settings, langgraph-sdk, groq, dataclasses-json, langgraph-checkpoint, langchain_groq, langgraph-prebuilt, langgraph, langchain_community\n",
            "Successfully installed dataclasses-json-0.6.7 groq-0.19.0 httpx-sse-0.4.0 langchain_community-0.3.19 langchain_groq-0.2.5 langgraph-0.3.11 langgraph-checkpoint-2.0.20 langgraph-prebuilt-0.1.3 langgraph-sdk-0.1.57 marshmallow-3.26.1 mypy-extensions-1.0.0 pydantic-settings-2.8.1 python-dotenv-1.0.1 typing-inspect-0.9.0\n"
          ]
        }
      ],
      "source": [
        "pip install langchain langchain_core langchain_groq langchain_community langgraph"
      ]
    },
    {
      "cell_type": "code",
      "source": [
        "pip install gradio"
      ],
      "metadata": {
        "colab": {
          "base_uri": "https://localhost:8080/"
        },
        "id": "860ZpchOKq3A",
        "outputId": "8e04eb23-614d-4777-bb6d-d3471c341bca"
      },
      "execution_count": 2,
      "outputs": [
        {
          "output_type": "stream",
          "name": "stdout",
          "text": [
            "Collecting gradio\n",
            "  Downloading gradio-5.21.0-py3-none-any.whl.metadata (16 kB)\n",
            "Collecting aiofiles<24.0,>=22.0 (from gradio)\n",
            "  Downloading aiofiles-23.2.1-py3-none-any.whl.metadata (9.7 kB)\n",
            "Requirement already satisfied: anyio<5.0,>=3.0 in /usr/local/lib/python3.11/dist-packages (from gradio) (3.7.1)\n",
            "Collecting fastapi<1.0,>=0.115.2 (from gradio)\n",
            "  Downloading fastapi-0.115.11-py3-none-any.whl.metadata (27 kB)\n",
            "Collecting ffmpy (from gradio)\n",
            "  Downloading ffmpy-0.5.0-py3-none-any.whl.metadata (3.0 kB)\n",
            "Collecting gradio-client==1.7.2 (from gradio)\n",
            "  Downloading gradio_client-1.7.2-py3-none-any.whl.metadata (7.1 kB)\n",
            "Collecting groovy~=0.1 (from gradio)\n",
            "  Downloading groovy-0.1.2-py3-none-any.whl.metadata (6.1 kB)\n",
            "Requirement already satisfied: httpx>=0.24.1 in /usr/local/lib/python3.11/dist-packages (from gradio) (0.28.1)\n",
            "Requirement already satisfied: huggingface-hub>=0.28.1 in /usr/local/lib/python3.11/dist-packages (from gradio) (0.28.1)\n",
            "Requirement already satisfied: jinja2<4.0 in /usr/local/lib/python3.11/dist-packages (from gradio) (3.1.6)\n",
            "Collecting markupsafe~=2.0 (from gradio)\n",
            "  Downloading MarkupSafe-2.1.5-cp311-cp311-manylinux_2_17_x86_64.manylinux2014_x86_64.whl.metadata (3.0 kB)\n",
            "Requirement already satisfied: numpy<3.0,>=1.0 in /usr/local/lib/python3.11/dist-packages (from gradio) (2.0.2)\n",
            "Requirement already satisfied: orjson~=3.0 in /usr/local/lib/python3.11/dist-packages (from gradio) (3.10.15)\n",
            "Requirement already satisfied: packaging in /usr/local/lib/python3.11/dist-packages (from gradio) (24.2)\n",
            "Requirement already satisfied: pandas<3.0,>=1.0 in /usr/local/lib/python3.11/dist-packages (from gradio) (2.2.2)\n",
            "Requirement already satisfied: pillow<12.0,>=8.0 in /usr/local/lib/python3.11/dist-packages (from gradio) (11.1.0)\n",
            "Requirement already satisfied: pydantic>=2.0 in /usr/local/lib/python3.11/dist-packages (from gradio) (2.10.6)\n",
            "Collecting pydub (from gradio)\n",
            "  Downloading pydub-0.25.1-py2.py3-none-any.whl.metadata (1.4 kB)\n",
            "Collecting python-multipart>=0.0.18 (from gradio)\n",
            "  Downloading python_multipart-0.0.20-py3-none-any.whl.metadata (1.8 kB)\n",
            "Requirement already satisfied: pyyaml<7.0,>=5.0 in /usr/local/lib/python3.11/dist-packages (from gradio) (6.0.2)\n",
            "Collecting ruff>=0.9.3 (from gradio)\n",
            "  Downloading ruff-0.11.0-py3-none-manylinux_2_17_x86_64.manylinux2014_x86_64.whl.metadata (25 kB)\n",
            "Collecting safehttpx<0.2.0,>=0.1.6 (from gradio)\n",
            "  Downloading safehttpx-0.1.6-py3-none-any.whl.metadata (4.2 kB)\n",
            "Collecting semantic-version~=2.0 (from gradio)\n",
            "  Downloading semantic_version-2.10.0-py2.py3-none-any.whl.metadata (9.7 kB)\n",
            "Collecting starlette<1.0,>=0.40.0 (from gradio)\n",
            "  Downloading starlette-0.46.1-py3-none-any.whl.metadata (6.2 kB)\n",
            "Collecting tomlkit<0.14.0,>=0.12.0 (from gradio)\n",
            "  Downloading tomlkit-0.13.2-py3-none-any.whl.metadata (2.7 kB)\n",
            "Requirement already satisfied: typer<1.0,>=0.12 in /usr/local/lib/python3.11/dist-packages (from gradio) (0.15.2)\n",
            "Requirement already satisfied: typing-extensions~=4.0 in /usr/local/lib/python3.11/dist-packages (from gradio) (4.12.2)\n",
            "Collecting uvicorn>=0.14.0 (from gradio)\n",
            "  Downloading uvicorn-0.34.0-py3-none-any.whl.metadata (6.5 kB)\n",
            "Requirement already satisfied: fsspec in /usr/local/lib/python3.11/dist-packages (from gradio-client==1.7.2->gradio) (2024.10.0)\n",
            "Requirement already satisfied: websockets<16.0,>=10.0 in /usr/local/lib/python3.11/dist-packages (from gradio-client==1.7.2->gradio) (14.2)\n",
            "Requirement already satisfied: idna>=2.8 in /usr/local/lib/python3.11/dist-packages (from anyio<5.0,>=3.0->gradio) (3.10)\n",
            "Requirement already satisfied: sniffio>=1.1 in /usr/local/lib/python3.11/dist-packages (from anyio<5.0,>=3.0->gradio) (1.3.1)\n",
            "Requirement already satisfied: certifi in /usr/local/lib/python3.11/dist-packages (from httpx>=0.24.1->gradio) (2025.1.31)\n",
            "Requirement already satisfied: httpcore==1.* in /usr/local/lib/python3.11/dist-packages (from httpx>=0.24.1->gradio) (1.0.7)\n",
            "Requirement already satisfied: h11<0.15,>=0.13 in /usr/local/lib/python3.11/dist-packages (from httpcore==1.*->httpx>=0.24.1->gradio) (0.14.0)\n",
            "Requirement already satisfied: filelock in /usr/local/lib/python3.11/dist-packages (from huggingface-hub>=0.28.1->gradio) (3.17.0)\n",
            "Requirement already satisfied: requests in /usr/local/lib/python3.11/dist-packages (from huggingface-hub>=0.28.1->gradio) (2.32.3)\n",
            "Requirement already satisfied: tqdm>=4.42.1 in /usr/local/lib/python3.11/dist-packages (from huggingface-hub>=0.28.1->gradio) (4.67.1)\n",
            "Requirement already satisfied: python-dateutil>=2.8.2 in /usr/local/lib/python3.11/dist-packages (from pandas<3.0,>=1.0->gradio) (2.8.2)\n",
            "Requirement already satisfied: pytz>=2020.1 in /usr/local/lib/python3.11/dist-packages (from pandas<3.0,>=1.0->gradio) (2025.1)\n",
            "Requirement already satisfied: tzdata>=2022.7 in /usr/local/lib/python3.11/dist-packages (from pandas<3.0,>=1.0->gradio) (2025.1)\n",
            "Requirement already satisfied: annotated-types>=0.6.0 in /usr/local/lib/python3.11/dist-packages (from pydantic>=2.0->gradio) (0.7.0)\n",
            "Requirement already satisfied: pydantic-core==2.27.2 in /usr/local/lib/python3.11/dist-packages (from pydantic>=2.0->gradio) (2.27.2)\n",
            "Requirement already satisfied: click>=8.0.0 in /usr/local/lib/python3.11/dist-packages (from typer<1.0,>=0.12->gradio) (8.1.8)\n",
            "Requirement already satisfied: shellingham>=1.3.0 in /usr/local/lib/python3.11/dist-packages (from typer<1.0,>=0.12->gradio) (1.5.4)\n",
            "Requirement already satisfied: rich>=10.11.0 in /usr/local/lib/python3.11/dist-packages (from typer<1.0,>=0.12->gradio) (13.9.4)\n",
            "Requirement already satisfied: six>=1.5 in /usr/local/lib/python3.11/dist-packages (from python-dateutil>=2.8.2->pandas<3.0,>=1.0->gradio) (1.17.0)\n",
            "Requirement already satisfied: markdown-it-py>=2.2.0 in /usr/local/lib/python3.11/dist-packages (from rich>=10.11.0->typer<1.0,>=0.12->gradio) (3.0.0)\n",
            "Requirement already satisfied: pygments<3.0.0,>=2.13.0 in /usr/local/lib/python3.11/dist-packages (from rich>=10.11.0->typer<1.0,>=0.12->gradio) (2.18.0)\n",
            "Requirement already satisfied: charset-normalizer<4,>=2 in /usr/local/lib/python3.11/dist-packages (from requests->huggingface-hub>=0.28.1->gradio) (3.4.1)\n",
            "Requirement already satisfied: urllib3<3,>=1.21.1 in /usr/local/lib/python3.11/dist-packages (from requests->huggingface-hub>=0.28.1->gradio) (2.3.0)\n",
            "Requirement already satisfied: mdurl~=0.1 in /usr/local/lib/python3.11/dist-packages (from markdown-it-py>=2.2.0->rich>=10.11.0->typer<1.0,>=0.12->gradio) (0.1.2)\n",
            "Downloading gradio-5.21.0-py3-none-any.whl (46.2 MB)\n",
            "\u001b[2K   \u001b[90m━━━━━━━━━━━━━━━━━━━━━━━━━━━━━━━━━━━━━━━━\u001b[0m \u001b[32m46.2/46.2 MB\u001b[0m \u001b[31m8.8 MB/s\u001b[0m eta \u001b[36m0:00:00\u001b[0m\n",
            "\u001b[?25hDownloading gradio_client-1.7.2-py3-none-any.whl (322 kB)\n",
            "\u001b[2K   \u001b[90m━━━━━━━━━━━━━━━━━━━━━━━━━━━━━━━━━━━━━━━━\u001b[0m \u001b[32m322.1/322.1 kB\u001b[0m \u001b[31m14.3 MB/s\u001b[0m eta \u001b[36m0:00:00\u001b[0m\n",
            "\u001b[?25hDownloading aiofiles-23.2.1-py3-none-any.whl (15 kB)\n",
            "Downloading fastapi-0.115.11-py3-none-any.whl (94 kB)\n",
            "\u001b[2K   \u001b[90m━━━━━━━━━━━━━━━━━━━━━━━━━━━━━━━━━━━━━━━━\u001b[0m \u001b[32m94.9/94.9 kB\u001b[0m \u001b[31m4.5 MB/s\u001b[0m eta \u001b[36m0:00:00\u001b[0m\n",
            "\u001b[?25hDownloading groovy-0.1.2-py3-none-any.whl (14 kB)\n",
            "Downloading MarkupSafe-2.1.5-cp311-cp311-manylinux_2_17_x86_64.manylinux2014_x86_64.whl (28 kB)\n",
            "Downloading python_multipart-0.0.20-py3-none-any.whl (24 kB)\n",
            "Downloading ruff-0.11.0-py3-none-manylinux_2_17_x86_64.manylinux2014_x86_64.whl (11.3 MB)\n",
            "\u001b[2K   \u001b[90m━━━━━━━━━━━━━━━━━━━━━━━━━━━━━━━━━━━━━━━━\u001b[0m \u001b[32m11.3/11.3 MB\u001b[0m \u001b[31m28.4 MB/s\u001b[0m eta \u001b[36m0:00:00\u001b[0m\n",
            "\u001b[?25hDownloading safehttpx-0.1.6-py3-none-any.whl (8.7 kB)\n",
            "Downloading semantic_version-2.10.0-py2.py3-none-any.whl (15 kB)\n",
            "Downloading starlette-0.46.1-py3-none-any.whl (71 kB)\n",
            "\u001b[2K   \u001b[90m━━━━━━━━━━━━━━━━━━━━━━━━━━━━━━━━━━━━━━━━\u001b[0m \u001b[32m72.0/72.0 kB\u001b[0m \u001b[31m6.3 MB/s\u001b[0m eta \u001b[36m0:00:00\u001b[0m\n",
            "\u001b[?25hDownloading tomlkit-0.13.2-py3-none-any.whl (37 kB)\n",
            "Downloading uvicorn-0.34.0-py3-none-any.whl (62 kB)\n",
            "\u001b[2K   \u001b[90m━━━━━━━━━━━━━━━━━━━━━━━━━━━━━━━━━━━━━━━━\u001b[0m \u001b[32m62.3/62.3 kB\u001b[0m \u001b[31m3.4 MB/s\u001b[0m eta \u001b[36m0:00:00\u001b[0m\n",
            "\u001b[?25hDownloading ffmpy-0.5.0-py3-none-any.whl (6.0 kB)\n",
            "Downloading pydub-0.25.1-py2.py3-none-any.whl (32 kB)\n",
            "Installing collected packages: pydub, uvicorn, tomlkit, semantic-version, ruff, python-multipart, markupsafe, groovy, ffmpy, aiofiles, starlette, safehttpx, gradio-client, fastapi, gradio\n",
            "  Attempting uninstall: markupsafe\n",
            "    Found existing installation: MarkupSafe 3.0.2\n",
            "    Uninstalling MarkupSafe-3.0.2:\n",
            "      Successfully uninstalled MarkupSafe-3.0.2\n",
            "\u001b[31mERROR: pip's dependency resolver does not currently take into account all the packages that are installed. This behaviour is the source of the following dependency conflicts.\n",
            "torch 2.6.0+cu124 requires nvidia-cublas-cu12==12.4.5.8; platform_system == \"Linux\" and platform_machine == \"x86_64\", but you have nvidia-cublas-cu12 12.5.3.2 which is incompatible.\n",
            "torch 2.6.0+cu124 requires nvidia-cuda-cupti-cu12==12.4.127; platform_system == \"Linux\" and platform_machine == \"x86_64\", but you have nvidia-cuda-cupti-cu12 12.5.82 which is incompatible.\n",
            "torch 2.6.0+cu124 requires nvidia-cuda-nvrtc-cu12==12.4.127; platform_system == \"Linux\" and platform_machine == \"x86_64\", but you have nvidia-cuda-nvrtc-cu12 12.5.82 which is incompatible.\n",
            "torch 2.6.0+cu124 requires nvidia-cuda-runtime-cu12==12.4.127; platform_system == \"Linux\" and platform_machine == \"x86_64\", but you have nvidia-cuda-runtime-cu12 12.5.82 which is incompatible.\n",
            "torch 2.6.0+cu124 requires nvidia-cudnn-cu12==9.1.0.70; platform_system == \"Linux\" and platform_machine == \"x86_64\", but you have nvidia-cudnn-cu12 9.3.0.75 which is incompatible.\n",
            "torch 2.6.0+cu124 requires nvidia-cufft-cu12==11.2.1.3; platform_system == \"Linux\" and platform_machine == \"x86_64\", but you have nvidia-cufft-cu12 11.2.3.61 which is incompatible.\n",
            "torch 2.6.0+cu124 requires nvidia-curand-cu12==10.3.5.147; platform_system == \"Linux\" and platform_machine == \"x86_64\", but you have nvidia-curand-cu12 10.3.6.82 which is incompatible.\n",
            "torch 2.6.0+cu124 requires nvidia-cusolver-cu12==11.6.1.9; platform_system == \"Linux\" and platform_machine == \"x86_64\", but you have nvidia-cusolver-cu12 11.6.3.83 which is incompatible.\n",
            "torch 2.6.0+cu124 requires nvidia-cusparse-cu12==12.3.1.170; platform_system == \"Linux\" and platform_machine == \"x86_64\", but you have nvidia-cusparse-cu12 12.5.1.3 which is incompatible.\n",
            "torch 2.6.0+cu124 requires nvidia-nvjitlink-cu12==12.4.127; platform_system == \"Linux\" and platform_machine == \"x86_64\", but you have nvidia-nvjitlink-cu12 12.5.82 which is incompatible.\u001b[0m\u001b[31m\n",
            "\u001b[0mSuccessfully installed aiofiles-23.2.1 fastapi-0.115.11 ffmpy-0.5.0 gradio-5.21.0 gradio-client-1.7.2 groovy-0.1.2 markupsafe-2.1.5 pydub-0.25.1 python-multipart-0.0.20 ruff-0.11.0 safehttpx-0.1.6 semantic-version-2.10.0 starlette-0.46.1 tomlkit-0.13.2 uvicorn-0.34.0\n"
          ]
        }
      ]
    },
    {
      "cell_type": "code",
      "source": [
        "import os\n",
        "from typing import TypedDict, Annotated, List\n",
        "from langgraph.graph import StateGraph, END\n",
        "from langchain_core.messages import HumanMessage, AIMessage\n",
        "from langchain_core.prompts import ChatPromptTemplate\n",
        "from langchain_core.runnables.graph import MermaidDrawMethod\n",
        "from IPython.display import display, Image"
      ],
      "metadata": {
        "id": "tQkSprxAAUax"
      },
      "execution_count": 3,
      "outputs": []
    },
    {
      "cell_type": "code",
      "source": [
        "class PlannerState(TypedDict):\n",
        "    messages: Annotated[List[HumanMessage | AIMessage], \"The messages in the conversation\"]\n",
        "    city: str\n",
        "    interests: List[str]\n",
        "    time: str  # Time availability (e.g., \"Full day\", \"Half day\", \"4 hours\")\n",
        "    weather: str\n",
        "    itinerary: str"
      ],
      "metadata": {
        "id": "Rk6qJmI1BCwG"
      },
      "execution_count": 4,
      "outputs": []
    },
    {
      "cell_type": "code",
      "source": [
        "from getpass import getpass\n",
        "groq_api_key = getpass(\"Enter your Groq API Key: \")"
      ],
      "metadata": {
        "colab": {
          "base_uri": "https://localhost:8080/"
        },
        "id": "4eYJLFEbDBlR",
        "outputId": "e37a554c-7ffe-4554-ad8b-9cd2dedb02b7"
      },
      "execution_count": 5,
      "outputs": [
        {
          "name": "stdout",
          "output_type": "stream",
          "text": [
            "Enter your Groq API Key: ··········\n"
          ]
        }
      ]
    },
    {
      "cell_type": "code",
      "source": [
        "weather_api_key = getpass(\"Enter your OpenWeatherMap API Key: \")"
      ],
      "metadata": {
        "colab": {
          "base_uri": "https://localhost:8080/"
        },
        "id": "xkU-aTINrwt9",
        "outputId": "40d4ad95-c561-4b6b-ae5b-e77c698cf9a5"
      },
      "execution_count": 6,
      "outputs": [
        {
          "name": "stdout",
          "output_type": "stream",
          "text": [
            "Enter your OpenWeatherMap API Key: ··········\n"
          ]
        }
      ]
    },
    {
      "cell_type": "code",
      "source": [
        "from langchain_groq import ChatGroq\n",
        "\n",
        "llm = ChatGroq(\n",
        "    temperature=0,\n",
        "    groq_api_key = groq_api_key,\n",
        "    model_name = \"llama-3.3-70b-versatile\"\n",
        ")"
      ],
      "metadata": {
        "id": "hVeL5L0zDTDT"
      },
      "execution_count": 8,
      "outputs": []
    },
    {
      "cell_type": "code",
      "source": [
        "itinerary_prompt = ChatPromptTemplate.from_messages([\n",
        "    (\"system\", \"You are a helpful travel assistant. Create a day trip itinerary for {city} based on the user's interests: {interests}. \"\n",
        "               \" consider the user's available time ({time}). \"\n",
        "               \"Provide a structured, bulleted itinerary that includes suggested activities, meal recommendations, and local tips.\"),\n",
        "    (\"human\", \"Create an itinerary for my day trip.\"),\n",
        "])"
      ],
      "metadata": {
        "id": "BViSAP_zDooa"
      },
      "execution_count": 9,
      "outputs": []
    },
    {
      "cell_type": "code",
      "source": [
        "# Defining agent's functions\n",
        "def input_city(state: PlannerState) -> PlannerState:\n",
        "  print(\"Please enter the city you want to visit for your day trip: \")\n",
        "  user_message = input(\"Your Input: \")\n",
        "  return {\n",
        "      **state,\n",
        "      \"city\": user_message,\n",
        "      \"messages\": state['messages'] + [HumanMessage(content=user_message)]\n",
        "  }\n",
        "\n",
        "def input_interest(state: PlannerState) -> PlannerState:\n",
        "  print(f\"Please enter your interest for the trip to : {state['city']} (comma-separted): \")\n",
        "  user_message = input(\"Your Input: \")\n",
        "  return {\n",
        "      **state,\n",
        "      \"interests\": [interest.strip() for interest in user_message.split(\",\")],\n",
        "      \"messages\": state['messages'] + [HumanMessage(content=user_message)]\n",
        "  }\n",
        "\n",
        "def input_time(state: PlannerState) -> PlannerState:\n",
        "    print(\"Please enter the time available for your trip (e.g., Full day, Half day, 4 hours): \")\n",
        "    time = input(\"Your Input: \")\n",
        "    return {\n",
        "        **state,\n",
        "        \"time\": time,\n",
        "        \"messages\": state['messages'] + [HumanMessage(content=f\"Time available: {time}\")],\n",
        "    }\n",
        "\n",
        "import requests\n",
        "\n",
        "def get_weather(state: PlannerState) -> PlannerState:\n",
        "    API_KEY = weather_api_key\n",
        "\n",
        "    url = f\"https://api.weatherstack.com/current?access_key={API_KEY}&query={state['city']}\"\n",
        "\n",
        "    response = requests.get(url)\n",
        "    data = response.json()\n",
        "\n",
        "    if response.status_code == 200 and \"current\" in data:\n",
        "        temp = data[\"current\"][\"temperature\"]\n",
        "        weather_desc = data[\"current\"][\"weather_descriptions\"][0]\n",
        "        weather_info = f\"{weather_desc.capitalize()}, {temp}°C\"\n",
        "    else:\n",
        "        weather_info = \"Weather information not available. Check your API key and city name.\"\n",
        "\n",
        "    return {\n",
        "        **state,\n",
        "        \"weather\": weather_info,\n",
        "    }\n",
        "\n",
        "def add_google_maps_links(state: PlannerState) -> PlannerState:\n",
        "    itinerary = state['itinerary']  # Get itinerary from state\n",
        "    city = state['city']  # Get city from state\n",
        "\n",
        "    itinerary_lines = itinerary.split(\"\\n\")\n",
        "    updated_lines = []\n",
        "\n",
        "    for line in itinerary_lines:\n",
        "        if \"-\" in line:\n",
        "            place = line.split(\"-\")[-1].strip()\n",
        "            maps_link = f\"https://www.google.com/maps/search/{place.replace(' ', '+')}+{city.replace(' ', '+')}\"\n",
        "            updated_lines.append(f\"{line} [🔗 Google Maps]({maps_link})\")\n",
        "        else:\n",
        "            updated_lines.append(line)\n",
        "\n",
        "    updated_itinerary = \"\\n\".join(updated_lines)\n",
        "    print(updated_itinerary)\n",
        "    return {\n",
        "        **state,\n",
        "        \"itinerary\": updated_itinerary,\n",
        "    }\n",
        "\n",
        "def create_itinerary(state: PlannerState) -> str:\n",
        "    response = llm.invoke(itinerary_prompt.format_messages(\n",
        "        city=state['city'],\n",
        "        interests=\", \".join(state['interests']),\n",
        "        time=state['time']\n",
        "    ))\n",
        "\n",
        "    state[\"itinerary\"] = response.content\n",
        "    state = add_google_maps_links(state)\n",
        "\n",
        "    state[\"itinerary\"] += f\"\\n\\nWeather in {state['city']}: {state['weather']}\"\n",
        "    state[\"messages\"].append(AIMessage(content=state[\"itinerary\"]))\n",
        "\n",
        "    return state"
      ],
      "metadata": {
        "id": "DTPYZOkzD12E"
      },
      "execution_count": 20,
      "outputs": []
    },
    {
      "cell_type": "code",
      "source": [
        "# Creating the workflow\n",
        "\n",
        "workflow = StateGraph(PlannerState)\n",
        "workflow.add_node(\"input_city\", input_city)\n",
        "workflow.add_node(\"input_interest\", input_interest)\n",
        "workflow.add_node(\"input_time\", input_time)\n",
        "workflow.add_node(\"get_weather\", get_weather)\n",
        "workflow.add_node(\"add_google_maps_links\", add_google_maps_links)\n",
        "workflow.add_node(\"create_itinerary\", create_itinerary)\n",
        "\n",
        "workflow.set_entry_point(\"input_city\")\n",
        "workflow.add_edge(\"input_city\", \"input_interest\")\n",
        "workflow.add_edge(\"input_interest\", \"input_time\")\n",
        "workflow.add_edge(\"input_time\", \"get_weather\")\n",
        "workflow.add_edge(\"get_weather\", \"create_itinerary\")\n",
        "workflow.add_edge(\"create_itinerary\", \"add_google_maps_links\")\n",
        "workflow.add_edge(\"add_google_maps_links\", END)\n",
        "\n",
        "app = workflow.compile()"
      ],
      "metadata": {
        "id": "4D5HKj8YFouG"
      },
      "execution_count": 21,
      "outputs": []
    },
    {
      "cell_type": "code",
      "source": [
        "# Displaying the graph structure\n",
        "\n",
        "display(\n",
        "    Image(\n",
        "        app.get_graph().draw_mermaid_png(\n",
        "            draw_method=MermaidDrawMethod.API\n",
        "        )\n",
        "    )\n",
        ")"
      ],
      "metadata": {
        "colab": {
          "base_uri": "https://localhost:8080/",
          "height": 747
        },
        "id": "KtC2akYHIlL5",
        "outputId": "160e1cac-cbe8-48c3-9a90-f1c69414467f"
      },
      "execution_count": 22,
      "outputs": [
        {
          "output_type": "display_data",
          "data": {
            "image/png": "[encoded data removed]",
            "text/plain": [
              "<IPython.core.display.Image object>"
            ]
          },
          "metadata": {}
        }
      ]
    },
    {
      "cell_type": "code",
      "source": [
        "def travel_planner(user_request: str):\n",
        "  print(f\"Initial Request: {user_request}\\n\")\n",
        "\n",
        "  state = {\n",
        "      \"messages\": [HumanMessage(content=user_request)],\n",
        "      \"city\": \"\",\n",
        "      \"interests\": [],\n",
        "      \"time\": \"\",\n",
        "      \"weather\": \"\",\n",
        "      \"itinerary\": \"\",\n",
        "\n",
        "  }\n",
        "  for output in app.stream(state):\n",
        "    pass"
      ],
      "metadata": {
        "id": "UlG5nlhUJntH"
      },
      "execution_count": 23,
      "outputs": []
    },
    {
      "cell_type": "code",
      "source": [
        "user_request =\"I want to plan a day trip\"\n",
        "travel_planner(user_request)"
      ],
      "metadata": {
        "colab": {
          "base_uri": "https://localhost:8080/"
        },
        "id": "h8CD44i4KiOb",
        "outputId": "20614211-33df-43b1-8cdc-6328a0e65c98"
      },
      "execution_count": 24,
      "outputs": [
        {
          "output_type": "stream",
          "name": "stdout",
          "text": [
            "Initial Request: I want to plan a day trip\n",
            "\n",
            "Please enter the city you want to visit for your day trip: \n",
            "Your Input: New Delhi\n",
            "Please enter your interest for the trip to : New Delhi (comma-separted): \n",
            "Your Input: qutub minar, temples, street food, famous tourist attractions\n",
            "Please enter the time available for your trip (e.g., Full day, Half day, 4 hours): \n",
            "Your Input: Full day\n",
            "Here's a suggested day trip itinerary for New Delhi based on your interests:\n",
            "\n",
            "* **8:00 AM - 9:00 AM: Breakfast and Start of the Day** [🔗 Google Maps](https://www.google.com/maps/search/9:00+AM:+Breakfast+and+Start+of+the+Day**+New+Delhi)\n",
            "  * Begin your day with a delicious breakfast at a local eatery, such as the famous Karim's or a street food stall in the Chandni Chowk area. Try some popular Indian breakfast items like parathas, poori bhaji, or idlis.\n",
            "  * Start your day by visiting the **Qutub Minar**, a UNESCO World Heritage Site and one of the tallest minarets in India. Explore the complex, which includes the Quwwat-ul-Islam Mosque, the Iron Pillar, and other historical monuments. [🔗 Google Maps](https://www.google.com/maps/search/Islam+Mosque,+the+Iron+Pillar,+and+other+historical+monuments.+New+Delhi)\n",
            "\n",
            "* **10:00 AM - 12:00 PM: Temple Visits** [🔗 Google Maps](https://www.google.com/maps/search/12:00+PM:+Temple+Visits**+New+Delhi)\n",
            "  * After visiting Qutub Minar, head to the **Lotus Temple**, a beautiful Bahai temple famous for its unique architecture and peaceful surroundings.\n",
            "  * Next, visit the **Akshardham Temple**, a stunning Hindu temple complex that showcases Indian culture, architecture, and spirituality. Be sure to check the temple's dress code and rules before visiting.\n",
            "\n",
            "* **12:00 PM - 1:30 PM: Lunch Break** [🔗 Google Maps](https://www.google.com/maps/search/1:30+PM:+Lunch+Break**+New+Delhi)\n",
            "  * Take a break for lunch at a nearby restaurant, such as the **Haldiram's** or **Bikanerwala**, which serve a variety of Indian and international cuisine.\n",
            "  * Try some popular street food items like chaat, kebabs, or momos at a local stall or food cart.\n",
            "\n",
            "* **2:00 PM - 4:00 PM: Famous Tourist Attractions** [🔗 Google Maps](https://www.google.com/maps/search/4:00+PM:+Famous+Tourist+Attractions**+New+Delhi)\n",
            "  * Visit the **India Gate**, a war memorial that honors Indian soldiers who died in combat. Take a stroll around the surrounding park and enjoy the scenery.\n",
            "  * Next, head to the **Rashtrapati Bhavan**, the official residence of the President of India. Take a guided tour of the building and its beautiful gardens.\n",
            "\n",
            "* **5:00 PM - 7:00 PM: Street Food and Local Markets** [🔗 Google Maps](https://www.google.com/maps/search/7:00+PM:+Street+Food+and+Local+Markets**+New+Delhi)\n",
            "  * Visit the **Chandni Chowk** market, one of the oldest and busiest markets in India. Explore the narrow streets and try some street food items like jalebis, falooda, or kulfi.\n",
            "  * Stop by the **Palika Bazaar**, an underground market that offers a wide range of products, from clothing to electronics.\n",
            "\n",
            "* **7:30 PM - 9:00 PM: Dinner and End of the Day** [🔗 Google Maps](https://www.google.com/maps/search/9:00+PM:+Dinner+and+End+of+the+Day**+New+Delhi)\n",
            "  * End your day with a delicious dinner at a local restaurant, such as the **Butter Chicken Factory** or **Kake Di Hatti**.\n",
            "  * Try some popular Indian desserts like gulab jamun, rabri, or barfi to round off your meal.\n",
            "\n",
            "Local Tips:\n",
            "* Be sure to dress modestly and remove your shoes when visiting temples or mosques.\n",
            "* Haggle when shopping at local markets, and be prepared to bargain.\n",
            "* Stay hydrated and bring sunscreen to protect yourself from the sun.\n",
            "* Be mindful of your belongings and keep an eye on your surroundings, especially in crowded areas.\n",
            "\n",
            "This itinerary should give you a good taste of New Delhi's history, culture, and cuisine, and help you make the most of your day trip. Enjoy your travels!\n",
            "Here's a suggested day trip itinerary for New Delhi based on your interests:\n",
            "\n",
            "* **8:00 AM - 9:00 AM: Breakfast and Start of the Day** [🔗 Google Maps](https://www.google.com/maps/search/9:00+AM:+Breakfast+and+Start+of+the+Day**+New+Delhi) [🔗 Google Maps](https://www.google.com/maps/search/9:00+AM:+Breakfast+and+Start+of+the+Day**+[🔗+Google+Maps](https://www.google.com/maps/search/9:00+AM:+Breakfast+and+Start+of+the+Day**+New+Delhi)+New+Delhi)\n",
            "  * Begin your day with a delicious breakfast at a local eatery, such as the famous Karim's or a street food stall in the Chandni Chowk area. Try some popular Indian breakfast items like parathas, poori bhaji, or idlis.\n",
            "  * Start your day by visiting the **Qutub Minar**, a UNESCO World Heritage Site and one of the tallest minarets in India. Explore the complex, which includes the Quwwat-ul-Islam Mosque, the Iron Pillar, and other historical monuments. [🔗 Google Maps](https://www.google.com/maps/search/Islam+Mosque,+the+Iron+Pillar,+and+other+historical+monuments.+New+Delhi) [🔗 Google Maps](https://www.google.com/maps/search/Islam+Mosque,+the+Iron+Pillar,+and+other+historical+monuments.+[🔗+Google+Maps](https://www.google.com/maps/search/Islam+Mosque,+the+Iron+Pillar,+and+other+historical+monuments.+New+Delhi)+New+Delhi)\n",
            "\n",
            "* **10:00 AM - 12:00 PM: Temple Visits** [🔗 Google Maps](https://www.google.com/maps/search/12:00+PM:+Temple+Visits**+New+Delhi) [🔗 Google Maps](https://www.google.com/maps/search/12:00+PM:+Temple+Visits**+[🔗+Google+Maps](https://www.google.com/maps/search/12:00+PM:+Temple+Visits**+New+Delhi)+New+Delhi)\n",
            "  * After visiting Qutub Minar, head to the **Lotus Temple**, a beautiful Bahai temple famous for its unique architecture and peaceful surroundings.\n",
            "  * Next, visit the **Akshardham Temple**, a stunning Hindu temple complex that showcases Indian culture, architecture, and spirituality. Be sure to check the temple's dress code and rules before visiting.\n",
            "\n",
            "* **12:00 PM - 1:30 PM: Lunch Break** [🔗 Google Maps](https://www.google.com/maps/search/1:30+PM:+Lunch+Break**+New+Delhi) [🔗 Google Maps](https://www.google.com/maps/search/1:30+PM:+Lunch+Break**+[🔗+Google+Maps](https://www.google.com/maps/search/1:30+PM:+Lunch+Break**+New+Delhi)+New+Delhi)\n",
            "  * Take a break for lunch at a nearby restaurant, such as the **Haldiram's** or **Bikanerwala**, which serve a variety of Indian and international cuisine.\n",
            "  * Try some popular street food items like chaat, kebabs, or momos at a local stall or food cart.\n",
            "\n",
            "* **2:00 PM - 4:00 PM: Famous Tourist Attractions** [🔗 Google Maps](https://www.google.com/maps/search/4:00+PM:+Famous+Tourist+Attractions**+New+Delhi) [🔗 Google Maps](https://www.google.com/maps/search/4:00+PM:+Famous+Tourist+Attractions**+[🔗+Google+Maps](https://www.google.com/maps/search/4:00+PM:+Famous+Tourist+Attractions**+New+Delhi)+New+Delhi)\n",
            "  * Visit the **India Gate**, a war memorial that honors Indian soldiers who died in combat. Take a stroll around the surrounding park and enjoy the scenery.\n",
            "  * Next, head to the **Rashtrapati Bhavan**, the official residence of the President of India. Take a guided tour of the building and its beautiful gardens.\n",
            "\n",
            "* **5:00 PM - 7:00 PM: Street Food and Local Markets** [🔗 Google Maps](https://www.google.com/maps/search/7:00+PM:+Street+Food+and+Local+Markets**+New+Delhi) [🔗 Google Maps](https://www.google.com/maps/search/7:00+PM:+Street+Food+and+Local+Markets**+[🔗+Google+Maps](https://www.google.com/maps/search/7:00+PM:+Street+Food+and+Local+Markets**+New+Delhi)+New+Delhi)\n",
            "  * Visit the **Chandni Chowk** market, one of the oldest and busiest markets in India. Explore the narrow streets and try some street food items like jalebis, falooda, or kulfi.\n",
            "  * Stop by the **Palika Bazaar**, an underground market that offers a wide range of products, from clothing to electronics.\n",
            "\n",
            "* **7:30 PM - 9:00 PM: Dinner and End of the Day** [🔗 Google Maps](https://www.google.com/maps/search/9:00+PM:+Dinner+and+End+of+the+Day**+New+Delhi) [🔗 Google Maps](https://www.google.com/maps/search/9:00+PM:+Dinner+and+End+of+the+Day**+[🔗+Google+Maps](https://www.google.com/maps/search/9:00+PM:+Dinner+and+End+of+the+Day**+New+Delhi)+New+Delhi)\n",
            "  * End your day with a delicious dinner at a local restaurant, such as the **Butter Chicken Factory** or **Kake Di Hatti**.\n",
            "  * Try some popular Indian desserts like gulab jamun, rabri, or barfi to round off your meal.\n",
            "\n",
            "Local Tips:\n",
            "* Be sure to dress modestly and remove your shoes when visiting temples or mosques.\n",
            "* Haggle when shopping at local markets, and be prepared to bargain.\n",
            "* Stay hydrated and bring sunscreen to protect yourself from the sun.\n",
            "* Be mindful of your belongings and keep an eye on your surroundings, especially in crowded areas.\n",
            "\n",
            "This itinerary should give you a good taste of New Delhi's history, culture, and cuisine, and help you make the most of your day trip. Enjoy your travels!\n",
            "\n",
            "Weather in New Delhi: Clear , 23°C\n"
          ]
        }
      ]
    },
    {
      "cell_type": "code",
      "source": [
        "pip install fpdf"
      ],
      "metadata": {
        "id": "BLcCG2XhXMD4",
        "colab": {
          "base_uri": "https://localhost:8080/"
        },
        "outputId": "2f2f229a-cbc7-4932-c6cb-69284de66b05"
      },
      "execution_count": 35,
      "outputs": [
        {
          "output_type": "stream",
          "name": "stdout",
          "text": [
            "Collecting fpdf\n",
            "  Downloading fpdf-1.7.2.tar.gz (39 kB)\n",
            "  Preparing metadata (setup.py) ... \u001b[?25l\u001b[?25hdone\n",
            "Building wheels for collected packages: fpdf\n",
            "  Building wheel for fpdf (setup.py) ... \u001b[?25l\u001b[?25hdone\n",
            "  Created wheel for fpdf: filename=fpdf-1.7.2-py2.py3-none-any.whl size=40704 sha256=c58cfb8a42e767377b8d9562b991191146be297c576b1da21a711f48a4dca040\n",
            "  Stored in directory: /root/.cache/pip/wheels/65/4f/66/bbda9866da446a72e206d6484cd97381cbc7859a7068541c36\n",
            "Successfully built fpdf\n",
            "Installing collected packages: fpdf\n",
            "Successfully installed fpdf-1.7.2\n"
          ]
        }
      ]
    },
    {
      "cell_type": "code",
      "source": [
        "import gradio as gr\n",
        "import requests\n",
        "from typing import TypedDict, Annotated, List\n",
        "from langgraph.graph import StateGraph, END\n",
        "from langchain_core.messages import HumanMessage, AIMessage\n",
        "from langchain_core.prompts import ChatPromptTemplate\n",
        "from langchain_groq import ChatGroq\n",
        "\n",
        "groq_api_key = groq_api_key\n",
        "weather_api_key = weather_api_key\n",
        "\n",
        "class PlannerState(TypedDict):\n",
        "    messages: Annotated[List[HumanMessage | AIMessage], \"The messages in the conversation\"]\n",
        "    city: str\n",
        "    interests: List[str]\n",
        "    time: str\n",
        "    weather: str\n",
        "    itinerary: str\n",
        "\n",
        "llm = ChatGroq(\n",
        "    temperature=0,\n",
        "    groq_api_key=groq_api_key,\n",
        "    model_name=\"llama-3.3-70b-versatile\"\n",
        ")\n",
        "\n",
        "itinerary_prompt = ChatPromptTemplate.from_messages([\n",
        "    (\"system\", \"You are a helpful travel assistant. Create a day trip itinerary for {city} based on the user's interests: {interests}. \"\n",
        "               \"Consider the user's available time ({time}). \"\n",
        "               \"Provide a structured, bulleted itinerary that includes suggested activities, meal recommendations, and local tips.\"),\n",
        "    (\"human\", \"Create an itinerary for my day trip.\"),\n",
        "])\n",
        "\n",
        "def input_city(city: str, state: PlannerState) -> PlannerState:\n",
        "    return {\n",
        "        **state,\n",
        "        \"city\": city,\n",
        "        \"messages\": state['messages'] + [HumanMessage(content=city)],\n",
        "    }\n",
        "\n",
        "def input_interests(interests: str, state: PlannerState) -> PlannerState:\n",
        "    return {\n",
        "        **state,\n",
        "        \"interests\": [interest.strip() for interest in interests.split(',')],\n",
        "        \"messages\": state['messages'] + [HumanMessage(content=interests)],\n",
        "    }\n",
        "\n",
        "def input_time(time: str, state: PlannerState) -> PlannerState:\n",
        "    return {\n",
        "        **state,\n",
        "        \"time\": time,\n",
        "        \"messages\": state['messages'] + [HumanMessage(content=f\"Time available: {time}\")],\n",
        "    }\n",
        "\n",
        "def get_weather(state: PlannerState) -> PlannerState:\n",
        "    API_KEY = weather_api_key\n",
        "    url = f\"https://api.weatherstack.com/current?access_key={API_KEY}&query={state['city']}\"\n",
        "\n",
        "    try:\n",
        "        response = requests.get(url)\n",
        "        data = response.json()\n",
        "\n",
        "        if response.status_code == 200 and \"current\" in data:\n",
        "            temp = data[\"current\"][\"temperature\"]\n",
        "            weather_desc = data[\"current\"][\"weather_descriptions\"][0]\n",
        "            weather_info = f\"{weather_desc.capitalize()}, {temp}°C\"\n",
        "        else:\n",
        "            weather_info = \"Weather information not available\"\n",
        "    except Exception:\n",
        "        weather_info = \"Error fetching weather data\"\n",
        "\n",
        "    return {**state, \"weather\": weather_info}\n",
        "\n",
        "def add_google_maps_links(state: PlannerState) -> PlannerState:\n",
        "    itinerary = state['itinerary']\n",
        "    city = state['city']\n",
        "\n",
        "    itinerary_lines = itinerary.split(\"\\n\")\n",
        "    updated_lines = []\n",
        "\n",
        "    for line in itinerary_lines:\n",
        "        if \"-\" in line:\n",
        "            place = line.split(\"-\")[-1].strip()\n",
        "            maps_link = f\"https://www.google.com/maps/search/{place.replace(' ', '+')}+{city.replace(' ', '+')}\"\n",
        "            updated_lines.append(f\"{line} [🔗 Google Maps]({maps_link})\")\n",
        "        else:\n",
        "            updated_lines.append(line)\n",
        "\n",
        "    return {**state, \"itinerary\": \"\\n\".join(updated_lines)}\n",
        "\n",
        "def create_itinerary(state: PlannerState) -> str:\n",
        "    response = llm.invoke(itinerary_prompt.format_messages(\n",
        "        city=state['city'],\n",
        "        interests=\", \".join(state['interests']),\n",
        "        time=state['time']\n",
        "    ))\n",
        "\n",
        "    state[\"itinerary\"] = response.content\n",
        "    state = add_google_maps_links(state)\n",
        "\n",
        "    state[\"itinerary\"] += f\"\\n\\nWeather in {state['city']}: {state['weather']}\"\n",
        "    state[\"messages\"].append(AIMessage(content=state[\"itinerary\"]))\n",
        "\n",
        "    return state\n",
        "def travel_planner(city: str, interests: str, time: str) -> str:\n",
        "    state = {\n",
        "        \"messages\": [],\n",
        "        \"city\": \"\",\n",
        "        \"interests\": [],\n",
        "        \"time\": \"\",\n",
        "        \"weather\": \"\",\n",
        "        \"itinerary\": \"\",\n",
        "    }\n",
        "    state = input_city(city, state)\n",
        "    state = input_interests(interests, state)\n",
        "    state = input_time(time, state)\n",
        "    state = get_weather(state)\n",
        "\n",
        "    state = create_itinerary(state)\n",
        "\n",
        "    return state[\"itinerary\"]\n",
        "\n",
        "interface = gr.Interface(\n",
        "    fn=travel_planner,\n",
        "    theme='Yntec/HaleyCH_Theme_Orange_Green',\n",
        "    inputs=[\n",
        "        gr.Textbox(label=\"Enter the city for your day trip\"),\n",
        "        gr.Textbox(label=\"Enter your interests (comma-separated)\"),\n",
        "        gr.Textbox(label=\"Enter the time available (e.g., Full day, Half day, 4 hours)\"),\n",
        "    ],\n",
        "    outputs=[\n",
        "        gr.Textbox(label=\"Generated Itinerary\"),\n",
        "    ],\n",
        "    title=\"Travel Itinerary Planner\",\n",
        "    description=\"Enter a city and your interests to generate a personalized day trip itinerary.\"\n",
        ")\n",
        "\n",
        "interface.launch()\n"
      ],
      "metadata": {
        "colab": {
          "base_uri": "https://localhost:8080/",
          "height": 646
        },
        "id": "7FoVfWBbF56U",
        "outputId": "e3ebff3e-7c2f-467f-f0b1-cbed2f909e1d"
      },
      "execution_count": 39,
      "outputs": [
        {
          "output_type": "stream",
          "name": "stdout",
          "text": [
            "Running Gradio in a Colab notebook requires sharing enabled. Automatically setting `share=True` (you can turn this off by setting `share=False` in `launch()` explicitly).\n",
            "\n",
            "Colab notebook detected. To show errors in colab notebook, set debug=True in launch()\n",
            "* Running on public URL: https://8d4acd6343aac637d8.gradio.live\n",
            "\n",
            "This share link expires in 72 hours. For free permanent hosting and GPU upgrades, run `gradio deploy` from the terminal in the working directory to deploy to Hugging Face Spaces (https://huggingface.co/spaces)\n"
          ]
        },
        {
          "output_type": "display_data",
          "data": {
            "text/plain": [
              "<IPython.core.display.HTML object>"
            ],
            "text/html": [
              "<div><iframe src=\"https://8d4acd6343aac637d8.gradio.live\" width=\"100%\" height=\"500\" allow=\"autoplay; camera; microphone; clipboard-read; clipboard-write;\" frameborder=\"0\" allowfullscreen></iframe></div>"
            ]
          },
          "metadata": {}
        },
        {
          "output_type": "execute_result",
          "data": {
            "text/plain": []
          },
          "metadata": {},
          "execution_count": 39
        }
      ]
    },
    {
      "cell_type": "code",
      "source": [],
      "metadata": {
        "id": "YA2blGO4HaTe"
      },
      "execution_count": null,
      "outputs": []
    }
  ]
}